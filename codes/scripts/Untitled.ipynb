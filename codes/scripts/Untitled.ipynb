{
 "cells": [
  {
   "cell_type": "code",
   "execution_count": 5,
   "metadata": {},
   "outputs": [
    {
     "name": "stdout",
     "output_type": "stream",
     "text": [
      "amazon-libraries.json 27\n",
      "google-libraries.json 349\n",
      "mvn-central-libraries.json 83\n",
      "trackers.json 45\n"
     ]
    }
   ],
   "source": [
    "ROOT = \"/home/huseyinalecakir/NLG/datasets/libraries/library-descriptions\"\n",
    "import os\n",
    "import json\n",
    "lib_count = 0\n",
    "for f in [\"amazon-libraries.json\", \"google-libraries.json\", \"mvn-central-libraries.json\", \"trackers.json\"]:\n",
    "    file_dir = os.path.join(ROOT, f)\n",
    "    with open(file_dir) as target:\n",
    "        data = json.load(target)\n",
    "        print(f, len(data[\"libraries\"]))\n",
    "        lib_count += len(data[\"libraries\"])"
   ]
  },
  {
   "cell_type": "code",
   "execution_count": 3,
   "metadata": {},
   "outputs": [
    {
     "data": {
      "text/plain": [
       "504"
      ]
     },
     "execution_count": 3,
     "metadata": {},
     "output_type": "execute_result"
    }
   ],
   "source": [
    "lib_count"
   ]
  }
 ],
 "metadata": {
  "kernelspec": {
   "display_name": "Python 3",
   "language": "python",
   "name": "python3"
  },
  "language_info": {
   "codemirror_mode": {
    "name": "ipython",
    "version": 3
   },
   "file_extension": ".py",
   "mimetype": "text/x-python",
   "name": "python",
   "nbconvert_exporter": "python",
   "pygments_lexer": "ipython3",
   "version": "3.7.6"
  }
 },
 "nbformat": 4,
 "nbformat_minor": 4
}
