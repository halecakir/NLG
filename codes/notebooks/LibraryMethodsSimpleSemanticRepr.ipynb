{
 "cells": [
  {
   "cell_type": "code",
   "execution_count": 1,
   "metadata": {},
   "outputs": [],
   "source": [
    "import os\n",
    "import csv\n",
    "import numpy as np\n",
    "\n",
    "from gensim.models import KeyedVectors\n",
    "from nltk import word_tokenize\n",
    "from sklearn.decomposition import PCA\n",
    "\n",
    "import matplotlib.pyplot as plt"
   ]
  },
  {
   "cell_type": "code",
   "execution_count": 2,
   "metadata": {},
   "outputs": [],
   "source": [
    "def load_embeddings_file(file_name, embedding_type, lower):\n",
    "    \"\"\"TODO\"\"\"\n",
    "    if not os.path.isfile(file_name):\n",
    "        raise Exception(\"{} does not exist\".format(file_name))\n",
    "    words = None\n",
    "    if embedding_type == \"word2vec\":\n",
    "        model = KeyedVectors.load_word2vec_format(\n",
    "            file_name, binary=True, unicode_errors=\"ignore\"\n",
    "        )\n",
    "        words = model.index2entity\n",
    "    else:\n",
    "        raise Exception(\"Unknown Embedding Type\")\n",
    "\n",
    "    if lower:\n",
    "        vectors = {word.lower(): model[word] for word in words}\n",
    "    else:\n",
    "        vectors = {word: model[word] for word in words}\n",
    "    return vectors\n",
    "\n",
    "def read_library_dataset(file_name):\n",
    "    methods = []\n",
    "    with open(file_name) as target:\n",
    "        reader = csv.reader(target)\n",
    "        for row in reader:\n",
    "            description = row[1]\n",
    "            if (\"class-description\" not in description) and (not description.startswith(\"http\")):\n",
    "                if ')' in description:\n",
    "                    splitted = description.split(\")\")\n",
    "                    fname, definition = splitted[0]+\")\", splitted[1]\n",
    "                    definition = definition.strip()\n",
    "                    words = [token for token in word_tokenize(definition)]\n",
    "                    if definition:\n",
    "                        methods.append({\"name\" : fname, \"words\" : words})\n",
    "    return methods\n",
    "\n",
    "\n",
    "def sentence_embeddings(methods, embeddings):\n",
    "    for m in methods:\n",
    "        s_vectors = [embeddings[word] for word in m[\"words\"] if word in embeddings ]\n",
    "        m[\"embeddings\"] = np.sum(s_vectors, axis=0)"
   ]
  },
  {
   "cell_type": "code",
   "execution_count": null,
   "metadata": {},
   "outputs": [],
   "source": [
    "embeddings = load_embeddings_file(\"../../datasets/embeddings/GoogleNews-vectors-negative300.bin.gz\", \"word2vec\", True)\n",
    "methods = read_library_dataset(\"../../datasets/library-dataset.csv\")\n",
    "sentence_embeddings(methods, embeddings)\n",
    "\n",
    "\n",
    "X = np.array(np.empty((len(methods),300)))\n",
    "for idx, method in enumerate(methods): \n",
    "    X[idx] = method[\"embeddings\"]\n",
    "\n"
   ]
  },
  {
   "cell_type": "code",
   "execution_count": 10,
   "metadata": {},
   "outputs": [
    {
     "data": {
      "image/png": "[encoded data removed]",
      "text/plain": [
       "<Figure size 432x288 with 1 Axes>"
      ]
     },
     "metadata": {
      "needs_background": "light"
     },
     "output_type": "display_data"
    }
   ],
   "source": [
    "pca = PCA(n_components=2)\n",
    "projected = pca.fit_transform(X)\n",
    "\n",
    "plt.scatter(projected[:, 0], projected[:, 1])\n",
    "plt.xlabel('Component 1')\n",
    "plt.ylabel('Component 2')\n",
    "plt.savefig(\"../../output/visualizations/LibraryMethodsSimpleSemanticRepr.png\")"
   ]
  }
 ],
 "metadata": {
  "kernelspec": {
   "display_name": "Python 3",
   "language": "python",
   "name": "python3"
  },
  "language_info": {
   "codemirror_mode": {
    "name": "ipython",
    "version": 3
   },
   "file_extension": ".py",
   "mimetype": "text/x-python",
   "name": "python",
   "nbconvert_exporter": "python",
   "pygments_lexer": "ipython3",
   "version": "3.6.9"
  }
 },
 "nbformat": 4,
 "nbformat_minor": 4
}
