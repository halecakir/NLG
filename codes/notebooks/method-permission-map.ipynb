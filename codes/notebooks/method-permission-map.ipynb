{
 "cells": [
  {
   "cell_type": "code",
   "execution_count": 3,
   "metadata": {},
   "outputs": [],
   "source": [
    "from androguard.misc import AnalyzeDex\n",
    "from androguard.core.api_specific_resources import load_permission_mappings\n",
    "\n",
    "\n",
    "import timeit\n",
    "import os\n",
    "import glob\n",
    "import json"
   ]
  },
  {
   "cell_type": "code",
   "execution_count": 2,
   "metadata": {},
   "outputs": [],
   "source": [
    "#Axplorer API-permission mappings\n",
    "mapping = load_permission_mappings(25) #axplorer mappingleri\n",
    "axplorer = dict()\n",
    "for k,v in mapping.items(): \n",
    "    api = k.split(\"(\")[0]\n",
    "    api = api.replace('-','')\n",
    "    axplorer[api] = v"
   ]
  },
  {
   "cell_type": "code",
   "execution_count": 4,
   "metadata": {},
   "outputs": [],
   "source": [
    "#Find all dex files\n",
    "LIB_PATH = os.path.join(os.environ[\"NLG_ROOT\"], \"datasets/libraries/repo/\")\n",
    "\n",
    "dex_file_paths = []\n",
    "for x in os.walk(LIB_PATH):\n",
    "    for y in glob.glob(os.path.join(x[0], '*.dex')):\n",
    "        dex_file_paths.append(y)\n"
   ]
  },
  {
   "cell_type": "code",
   "execution_count": 12,
   "metadata": {},
   "outputs": [
    {
     "name": "stdout",
     "output_type": "stream",
     "text": [
      "/Users/huseyinalecakir/Desktop/Security/NLG/datasets/libraries/repo/Android/com.android.support::swiperefreshlayout/28.0.0/classes.dex\n",
      "/Users/huseyinalecakir/Desktop/Security/NLG/datasets/libraries/repo/Android/androidx.databinding::databinding-adapters/3.3.1/classes.dex\n",
      "/Users/huseyinalecakir/Desktop/Security/NLG/datasets/libraries/repo/Android/androidx.databinding::databinding-adapters/3.5.3/classes.dex\n",
      "/Users/huseyinalecakir/Desktop/Security/NLG/datasets/libraries/repo/Android/androidx.databinding::databinding-adapters/3.3.0/classes.dex\n",
      "/Users/huseyinalecakir/Desktop/Security/NLG/datasets/libraries/repo/Android/androidx.databinding::databinding-adapters/3.5.2/classes.dex\n",
      "/Users/huseyinalecakir/Desktop/Security/NLG/datasets/libraries/repo/Android/androidx.databinding::databinding-adapters/3.4.0/classes.dex\n",
      "/Users/huseyinalecakir/Desktop/Security/NLG/datasets/libraries/repo/Android/androidx.databinding::databinding-adapters/3.4.1/classes.dex\n",
      "/Users/huseyinalecakir/Desktop/Security/NLG/datasets/libraries/repo/Android/androidx.databinding::databinding-adapters/3.5.0/classes.dex\n",
      "/Users/huseyinalecakir/Desktop/Security/NLG/datasets/libraries/repo/Android/androidx.databinding::databinding-adapters/3.3.2/classes.dex\n",
      "/Users/huseyinalecakir/Desktop/Security/NLG/datasets/libraries/repo/Android/androidx.databinding::databinding-adapters/3.5.1/classes.dex\n",
      "/Users/huseyinalecakir/Desktop/Security/NLG/datasets/libraries/repo/Android/androidx.databinding::databinding-adapters/3.2.1/classes.dex\n",
      "/Users/huseyinalecakir/Desktop/Security/NLG/datasets/libraries/repo/Android/androidx.databinding::databinding-adapters/3.6.0/classes.dex\n",
      "/Users/huseyinalecakir/Desktop/Security/NLG/datasets/libraries/repo/Android/androidx.databinding::databinding-adapters/3.2.0/classes.dex\n",
      "/Users/huseyinalecakir/Desktop/Security/NLG/datasets/libraries/repo/Android/androidx.databinding::databinding-adapters/3.4.2/classes.dex\n",
      "/Users/huseyinalecakir/Desktop/Security/NLG/datasets/libraries/repo/Android/androidx.databinding::databinding-adapters/3.6.1/classes.dex\n",
      "/Users/huseyinalecakir/Desktop/Security/NLG/datasets/libraries/repo/Android/androidx.percentlayout::percentlayout/1.0.0/classes.dex\n",
      "/Users/huseyinalecakir/Desktop/Security/NLG/datasets/libraries/repo/Android/androidx.interpolator::interpolator/1.0.0/classes.dex\n",
      "/Users/huseyinalecakir/Desktop/Security/NLG/datasets/libraries/repo/Android/com.android.support::support-content/27.0.1/classes.dex\n",
      "/Users/huseyinalecakir/Desktop/Security/NLG/datasets/libraries/repo/Android/com.android.support::support-content/27.0.0/classes.dex\n",
      "/Users/huseyinalecakir/Desktop/Security/NLG/datasets/libraries/repo/Android/com.android.support::support-content/27.0.2/classes.dex\n",
      "/Users/huseyinalecakir/Desktop/Security/NLG/datasets/libraries/repo/Android/com.android.support::support-content/27.1.1/classes.dex\n"
     ]
    }
   ],
   "source": [
    "LIMIT = 20\n",
    "\n",
    "lib_analysis = {}\n",
    "for idx, dex_path in enumerate(dex_file_paths):\n",
    "    if idx > LIMIT:\n",
    "        break\n",
    "    path_components = dex_path.split(\"/\")\n",
    "    lib_name, version = path_components[-3], path_components[-2]\n",
    "    a, b, dx = AnalyzeDex(dex_path)\n",
    "    print(dex_path)\n",
    "    if lib_name not in lib_analysis:\n",
    "        lib_analysis[lib_name] = {}\n",
    "    lib_analysis[lib_name][version] = set()\n",
    "    for dx_class in dx.get_classes():\n",
    "        for method in dx_class.get_methods():\n",
    "            if len(method.get_xref_to()):\n",
    "                for api_call in method.get_xref_to():\n",
    "                    split_class_name = str(api_call[1])\n",
    "                    wanted = split_class_name.split(\"(\")[0]\n",
    "                    wanted = wanted.replace('-', '')\n",
    "                    wanted = wanted.replace('>','')\n",
    "                    if wanted in axplorer:\n",
    "                        for perm in axplorer[wanted]:\n",
    "                            lib_analysis[lib_name][version].add(perm)\n",
    "\n"
   ]
  },
  {
   "cell_type": "code",
   "execution_count": 11,
   "metadata": {},
   "outputs": [
    {
     "data": {
      "text/plain": [
       "{'com.android.support::swiperefreshlayout': set(),\n",
       " 'androidx.databinding::databinding-adapters': set(),\n",
       " 'androidx.percentlayout::percentlayout': set(),\n",
       " 'androidx.interpolator::interpolator': set(),\n",
       " 'com.android.support::support-content': set()}"
      ]
     },
     "execution_count": 11,
     "metadata": {},
     "output_type": "execute_result"
    }
   ],
   "source": [
    "lib_analysis"
   ]
  }
 ],
 "metadata": {
  "kernelspec": {
   "display_name": "Python 3",
   "language": "python",
   "name": "python3"
  },
  "language_info": {
   "codemirror_mode": {
    "name": "ipython",
    "version": 3
   },
   "file_extension": ".py",
   "mimetype": "text/x-python",
   "name": "python",
   "nbconvert_exporter": "python",
   "pygments_lexer": "ipython3",
   "version": "3.6.9"
  }
 },
 "nbformat": 4,
 "nbformat_minor": 4
}
