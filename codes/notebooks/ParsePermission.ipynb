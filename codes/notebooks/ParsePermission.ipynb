{
 "cells": [
  {
   "cell_type": "code",
   "execution_count": null,
   "metadata": {},
   "outputs": [],
   "source": [
    "%load_ext autoreload\n",
    "%autoreload 2"
   ]
  },
  {
   "cell_type": "code",
   "execution_count": null,
   "metadata": {},
   "outputs": [],
   "source": [
    "import sys\n",
    "sys.path.insert(0, \"/home/huseyinalecakir/Security/SentenceOnlyAttentionDynet\")\n",
    ""
   ]
  },
  {
   "cell_type": "code",
   "execution_count": null,
   "metadata": {},
   "outputs": [],
   "source": []
  },
  {
   "cell_type": "code",
   "execution_count": null,
   "metadata": {},
   "outputs": [],
   "source": [
    "class Arguments:\n",
    "    permission_type = \"READ_CONTACTS\"\n",
    "    saved_data = \"/home/huseyinalecakir/datasets/saved-parameters/saved-data/ac-net/embeddings-sentences-w2i.pickle\"\n",
    "    model_checkpoint = \"/home/huseyinalecakir/datasets/saved-parameters/saved-models/SentenceOnlyAttentionDyNET-bidirectional-gru-READ_CONTACTS.pt\"\n",
    "    outdir = \"/home/huseyinalecakir/Security/output/SentenceOnlyAttentionDyNET/bidirectional-gru/READ_CONTACTS.out\"\n",
    "    encoder_dir = \"bidirectional\"\n",
    "    encoder_type = \"gru\"\n",
    "    num_epoch = 1\n",
    "    stemmer = \"porter\"\n",
    "    embedding_size = 300\n",
    "    hidden_size = 128\n",
    "    attention_size = 128\n",
    "    init_weight = 0.08\n",
    "    output_size = 1\n",
    "    dropout = 0\n",
    "    print_every = 1000\n",
    "\n",
    "\n",
    ""
   ]
  },
  {
   "cell_type": "code",
   "execution_count": 1,
   "metadata": {},
   "outputs": [
    {
     "output_type": "error",
     "ename": "NameError",
     "evalue": "name 'load_model' is not defined",
     "traceback": [
      "\u001b[0;31m---------------------------------------------------------------------------\u001b[0m",
      "\u001b[0;31mNameError\u001b[0m                                 Traceback (most recent call last)",
      "\u001b[0;32m<ipython-input-1-f62e59216446>\u001b[0m in \u001b[0;36m<module>\u001b[0;34m\u001b[0m\n\u001b[0;32m----> 1\u001b[0;31m \u001b[0mmodel\u001b[0m \u001b[0;34m=\u001b[0m \u001b[0mload_model\u001b[0m\u001b[0;34m(\u001b[0m\u001b[0margs\u001b[0m\u001b[0;34m)\u001b[0m\u001b[0;34m\u001b[0m\u001b[0;34m\u001b[0m\u001b[0m\n\u001b[0m",
      "\u001b[0;31mNameError\u001b[0m: name 'load_model' is not defined"
     ]
    }
   ],
   "source": [
    "model = load_model(args)"
   ]
  },
  {
   "cell_type": "code",
   "execution_count": null,
   "metadata": {},
   "outputs": [],
   "source": [
    "args = Arguments()\n",
    ""
   ]
  },
  {
   "cell_type": "code",
   "execution_count": null,
   "metadata": {},
   "outputs": [],
   "source": [
    "p_sent = NLPUtils.preprocess_sentence(\"read your contacts\", args.stemmer)"
   ]
  },
  {
   "cell_type": "code",
   "execution_count": null,
   "metadata": {},
   "outputs": [],
   "source": [
    "predict_raw_sentence(model, p_sent)"
   ]
  },
  {
   "cell_type": "code",
   "execution_count": null,
   "metadata": {},
   "outputs": [],
   "source": [
    "import nltk"
   ]
  },
  {
   "cell_type": "code",
   "execution_count": null,
   "metadata": {},
   "outputs": [],
   "source": [
    "import benepar\n",
    "parser = benepar.Parser(\"benepar_en2\")\n",
    "\n"
   ]
  },
  {
   "cell_type": "code",
   "execution_count": null,
   "metadata": {},
   "outputs": [],
   "source": [
    "def extract_nodes(parent):\n",
    "    parts = {}\n",
    "    parts[parent.label()] = \" \".join(parent.leaves())\n",
    "    for node in parent:\n",
    "        if type(node) is nltk.Tree:\n",
    "            parts[node.label()] = \" \".join(node.leaves())\n",
    "    return parts"
   ]
  },
  {
   "cell_type": "code",
   "execution_count": null,
   "metadata": {},
   "outputs": [],
   "source": [
    "sys.path.insert(0, \"/home/huseyinalecakir/NLG/codes/scripts/google_apis_crawler\")\n",
    ""
   ]
  },
  {
   "cell_type": "code",
   "execution_count": null,
   "metadata": {},
   "outputs": [],
   "source": [
    "from google_apis_crawler.models import Class, Method, db_connect, create_table, Description\n",
    "from sqlalchemy.orm import sessionmaker\n",
    ""
   ]
  },
  {
   "cell_type": "code",
   "execution_count": null,
   "metadata": {},
   "outputs": [],
   "source": [
    "engine = db_connect()\n",
    "create_table(engine)\n",
    "Session = sessionmaker(bind=engine)\n",
    "session = Session()"
   ]
  },
  {
   "cell_type": "code",
   "execution_count": null,
   "metadata": {},
   "outputs": [],
   "source": [
    "methods = session.query(Method).all()"
   ]
  },
  {
   "cell_type": "code",
   "execution_count": null,
   "metadata": {
    "tags": [
     "outputPrepend",
     "outputPrepend",
     "outputPrepend",
     "outputPrepend",
     "outputPrepend"
    ]
   },
   "outputs": [],
   "source": [
    "for method in methods:\n",
    "    description = method.description\n",
    "    try:\n",
    "        tree = parser.parse(description)\n",
    "    except ValueError:\n",
    "\n",
    "    nodes = extract_nodes(tree)\n",
    "    s = nodes.get(\"S\", \"-\")\n",
    "    np = nodes.get(\"NP\", \"-\")\n",
    "    vp = nodes.get(\"VP\", \"-\")\n",
    "    s_p, np_p, vp_p = -1, -1, -1\n",
    "\n",
    "    if s != \"-\":\n",
    "        sent = NLPUtils.preprocess_sentence(s, args.stemmer)\n",
    "        s_p = predict_raw_sentence(model,sent)\n",
    "    if np != \"-\":\n",
    "        sent = NLPUtils.preprocess_sentence(np, args.stemmer)\n",
    "        np_p = predict_raw_sentence(model,sent)\n",
    "    if vp != \"-\":\n",
    "        sent = NLPUtils.preprocess_sentence(vp, args.stemmer)\n",
    "        vp_p = predict_raw_sentence(model,sent)\n",
    "\n",
    "    description = Description(s, s_p, np, np_p, vp, vp_p)\n",
    "    print(description)\n",
    "    method.descriptions.append(description)\n",
    "    try:\n",
    "        session.add(description)\n",
    "        session.commit()\n",
    "\n",
    "    except:\n",
    "        print(\"Database Error.\")\n",
    "        session.rollback()\n",
    "        raise\n",
    "\n",
    "    finally:\n",
    "        print(\"OUT\")\n"
   ]
  }
 ],
 "metadata": {
  "kernelspec": {
   "display_name": "Python 3.6.8 64-bit ('py36': conda)",
   "language": "python",
   "name": "python36864bitpy36conda2e3dc48d597843a6b94d497d8c593993"
  },
  "language_info": {
   "codemirror_mode": {
    "name": "ipython",
    "version": 3
   },
   "file_extension": ".py",
   "mimetype": "text/x-python",
   "name": "python",
   "nbconvert_exporter": "python",
   "pygments_lexer": "ipython3",
   "version": "3.6.8-final"
  }
 },
 "nbformat": 4,
 "nbformat_minor": 4
}