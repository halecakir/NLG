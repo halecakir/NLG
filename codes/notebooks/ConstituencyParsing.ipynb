{
 "cells": [
  {
   "cell_type": "code",
   "execution_count": 1,
   "metadata": {},
   "outputs": [],
   "source": [
    "import sqlalchemy as db\n",
    "import pandas as pd"
   ]
  },
  {
   "cell_type": "code",
   "execution_count": 2,
   "metadata": {},
   "outputs": [],
   "source": [
    "#Connect Database\n",
    "CONNECTION_STRING = 'sqlite:////Users/huseyinalecakir/Desktop/Security/NLG/datasets/databases/google_apis.db'\n",
    "engine = db.create_engine(CONNECTION_STRING)\n",
    "connection = engine.connect()\n",
    "metadata = db.MetaData()\n",
    "methods = db.Table('methods', metadata, autoload=True, autoload_with=engine)"
   ]
  },
  {
   "cell_type": "code",
   "execution_count": 3,
   "metadata": {},
   "outputs": [],
   "source": [
    "query = db.select([methods])\n",
    "\n",
    "ResultProxy = engine.execute(query)\n",
    "ResultSet = ResultProxy.fetchall()\n",
    "\n",
    "df = pd.DataFrame(ResultSet)\n",
    "df.columns = ResultSet[0].keys()\n",
    "\n",
    "descriptions = df[\"description\"]"
   ]
  },
  {
   "cell_type": "code",
   "execution_count": null,
   "metadata": {},
   "outputs": [],
   "source": [
    "import benepar\n",
    "import nltk\n",
    "parser = benepar.Parser(\"benepar_en2\")"
   ]
  },
  {
   "cell_type": "code",
   "execution_count": 27,
   "metadata": {},
   "outputs": [],
   "source": [
    "def extract_all_vps(parent):\n",
    "    def extract_vp(parent, level=1):      \n",
    "        for node in parent:\n",
    "            if type(node) is nltk.Tree:\n",
    "                label = node.label()\n",
    "                if label == \"VP\":\n",
    "                    surface = \" \".join(node.leaves())\n",
    "                    if level not in data:\n",
    "                        data[level] = []\n",
    "                    data[level].append(surface)\n",
    "                extract_vp(node, level+1)\n",
    "                    \n",
    "    data = {}\n",
    "    if parent.label() == \"VP\":\n",
    "        surface = \" \".join(parent.leaves())\n",
    "        if 0 not in data:\n",
    "            data[0] = []\n",
    "        data[0].append(surface)\n",
    "    extract_vp(parent)\n",
    "    return data"
   ]
  },
  {
   "cell_type": "code",
   "execution_count": null,
   "metadata": {},
   "outputs": [],
   "source": [
    "from nltk.tokenize import sent_tokenize\n",
    "\n",
    "for idx, text in enumerate(descriptions):\n",
    "    if idx == 100:\n",
    "        break\n",
    "    sentences = sent_tokenize(text)\n",
    "    if len(sentences):\n",
    "        sent = sentences[0]\n",
    "        tree = parser.parse(sent)\n",
    "        vp = extract_all_vps(tree)\n",
    "        print(sent, vp)"
   ]
  },
  {
   "cell_type": "code",
   "execution_count": null,
   "metadata": {},
   "outputs": [],
   "source": [
    "#Predict permission scores from our previous model"
   ]
  },
  {
   "cell_type": "code",
   "execution_count": null,
   "metadata": {},
   "outputs": [],
   "source": [
    "#Save vp, vp-level, permission_score, contained_method"
   ]
  },
  {
   "cell_type": "code",
   "execution_count": null,
   "metadata": {},
   "outputs": [],
   "source": [
    "#download apis"
   ]
  }
 ],
 "metadata": {
  "kernelspec": {
   "display_name": "Python 3.6.8 64-bit ('base': conda)",
   "language": "python",
   "name": "python36864bitbasecondac0255466aebe436ba264c89074632d39"
  },
  "language_info": {
   "codemirror_mode": {
    "name": "ipython",
    "version": 3
   },
   "file_extension": ".py",
   "mimetype": "text/x-python",
   "name": "python",
   "nbconvert_exporter": "python",
   "pygments_lexer": "ipython3",
   "version": "3.6.9"
  }
 },
 "nbformat": 4,
 "nbformat_minor": 4
}
