{
 "cells": [
  {
   "cell_type": "code",
   "execution_count": 20,
   "metadata": {},
   "outputs": [],
   "source": [
    "import subprocess\n",
    "import os"
   ]
  },
  {
   "cell_type": "code",
   "execution_count": 39,
   "metadata": {},
   "outputs": [],
   "source": [
    "ORG_APK_DIR = \"/data/huseyinalecakir_data/apks_READ_CONTACTS\"\n",
    "ORG_APK_PROFILES_DIR = \"/data/huseyinalecakir_data/profiles_READ_CONTACTS/app\"\n",
    "ROOT_PATH = \"/data/huseyinalecakir_data/TEST_SET\"\n",
    "\n",
    "TEST_APP_DIR = \"/data/huseyinalecakir_data/TEST_SET/apks\"\n",
    "TEST_APK_PROFIL_DIR = \"/data/huseyinalecakir_data/TEST_SET/decompiled\""
   ]
  },
  {
   "cell_type": "code",
   "execution_count": 40,
   "metadata": {},
   "outputs": [],
   "source": [
    "#Get app names from test set\n",
    "app_names_file = os.path.join(ROOT_PATH, \"names.txt\")\n",
    "app_names = []\n",
    "with open(app_names_file) as target:\n",
    "    for line in target:\n",
    "        app_name = line.strip().split()\n",
    "        app_names.append(\" \".join(app_name[1:]))"
   ]
  },
  {
   "cell_type": "code",
   "execution_count": 41,
   "metadata": {},
   "outputs": [],
   "source": [
    "#Copy apks\n",
    "for app_name in app_names:\n",
    "    app_dir = os.path.join(ORG_APK_DIR, \"{}.apk\".format(app_name))\n",
    "    dest_app_dir = os.path.join(TEST_APP_DIR, \"{}.apk\".format(app_name))\n",
    "    subprocess.run([\"cp\", \"-r\", app_dir, dest_app_dir])\n"
   ]
  },
  {
   "cell_type": "code",
   "execution_count": 42,
   "metadata": {},
   "outputs": [],
   "source": [
    "#Copy apk profiles\n",
    "for app_name in app_names:\n",
    "    app_profil_dir = os.path.join(ORG_APK_PROFILES_DIR, \"{}.json\".format(app_name))\n",
    "    dest_app_profil_dir = os.path.join(TEST_APK_PROFIL_DIR)\n",
    "    subprocess.run([\"cp\", app_profil_dir, dest_app_profil_dir])\n"
   ]
  }
 ],
 "metadata": {
  "kernelspec": {
   "display_name": "Python 3.7.1 64-bit ('base': conda)",
   "language": "python",
   "name": "python37164bitbaseconda6dbad0658cb74d8498053e27cadc9ee9"
  },
  "language_info": {
   "codemirror_mode": {
    "name": "ipython",
    "version": 3
   },
   "file_extension": ".py",
   "mimetype": "text/x-python",
   "name": "python",
   "nbconvert_exporter": "python",
   "pygments_lexer": "ipython3",
   "version": "3.7.6"
  }
 },
 "nbformat": 4,
 "nbformat_minor": 4
}
