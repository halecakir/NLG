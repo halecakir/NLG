{
 "cells": [
  {
   "cell_type": "code",
   "execution_count": 1,
   "metadata": {},
   "outputs": [],
   "source": [
    "import pickle\n",
    "import os\n",
    "    \n",
    "PATH = \"/data/huseyinalecakir_data/CallGraphOutputs\"\n",
    "##List files\n",
    "call_graph_files = []\n",
    "for file in os.listdir(PATH):\n",
    "    call_graph_files.append(os.path.join(PATH, file))"
   ]
  },
  {
   "cell_type": "code",
   "execution_count": 2,
   "metadata": {},
   "outputs": [],
   "source": [
    "## Read files\n",
    "\"\"\"app_permissions = {}\n",
    "app_chains = {}\n",
    "app_nodes = {}\n",
    "app_analyzers = {}\n",
    "items = {}\"\"\"\n",
    "def call_script(file_dir):\n",
    "    with open(file_dir, \"rb\") as target:\n",
    "        item, app_chain, app_node, app_permission, app_analyzer = pickle.load(target)\n",
    "        return [item, app_chain, app_node, app_permission, app_analyzer]"
   ]
  },
  {
   "cell_type": "code",
   "execution_count": 3,
   "metadata": {},
   "outputs": [
    {
     "data": {
      "text/plain": [
       "'pool = Pool()\\nresults = pool.map_async(call_script, call_graph_files)\\npool.close()\\npool.join()\\n'"
      ]
     },
     "execution_count": 3,
     "metadata": {},
     "output_type": "execute_result"
    }
   ],
   "source": [
    "from multiprocessing import Pool\n",
    "\n",
    "\"\"\"smali = item[b\"smali\"].decode(\"utf-8\")\n",
    "items[smali] = item\n",
    "app_chains[smali] = app_chain[smali]\n",
    "app_nodes[smali] = app_node[smali]\n",
    "app_permissions[smali] = app_permission[smali]\n",
    "app_analyzers[smali] = app_analyzer[smali]\n",
    "manager = Manager()\n",
    "app_permissions = manager.dict()\n",
    "app_chains = manager.dict()\n",
    "app_nodes = manager.dict()\n",
    "app_analyzers = manager.dict()\n",
    "items = manager.dict()\"\"\"\n",
    "results = []\n",
    "for item in  call_graph_files:\n",
    "    results.append(call_script(item))\n",
    "\"\"\"pool = Pool()\n",
    "results = pool.map_async(call_script, call_graph_files)\n",
    "pool.close()\n",
    "pool.join()\n",
    "\"\"\""
   ]
  },
  {
   "cell_type": "code",
   "execution_count": null,
   "metadata": {},
   "outputs": [],
   "source": [
    "app_permissions = {}\n",
    "app_chains = {}\n",
    "app_nodes = {}\n",
    "app_analyzers = {}\n",
    "items = {}\n",
    "\n",
    "for item in results:\n",
    "    item, app_chain, app_node, app_permission, app_analyzer = item\n",
    "    smali = item[b\"smali\"].decode(\"utf-8\")\n",
    "    items[smali] = item\n",
    "    app_chains[smali] = app_chain[smali]\n",
    "    app_nodes[smali] = app_node[smali]\n",
    "    app_permissions[smali] = app_permission[smali]\n",
    "    app_analyzers[smali] = app_analyzer[smali]"
   ]
  },
  {
   "cell_type": "code",
   "execution_count": null,
   "metadata": {},
   "outputs": [],
   "source": [
    "## Report requested permissions\n",
    "requested_permissions = {}\n",
    "for app_name in app_permissions:\n",
    "    for permission in app_permissions[app_name]:\n",
    "        if permission not in requested_permissions:\n",
    "            requested_permissions[permission] = 0\n",
    "        requested_permissions[permission] += 1\n",
    "\n",
    "sorted_requested_permissions = {k: v for k, v in sorted(requested_permissions.items(), key=lambda item: item[1], reverse=True)}\n",
    "\n",
    "for permission in sorted_requested_permissions:\n",
    "    print(permission, sorted_requested_permissions[permission])"
   ]
  },
  {
   "cell_type": "code",
   "execution_count": null,
   "metadata": {},
   "outputs": [],
   "source": [
    "## Third party permission calls and third party libs listing\n",
    "def dfs_third_party(node, permission_nodes):\n",
    "    if node.api_permissions or node.cp_permissions:\n",
    "        if node.is_third_party:\n",
    "            if not node.detected_lib:\n",
    "                node.detected_lib = {\"package\" : \"NOT_FOUND\"}\n",
    "            permission_nodes.append(node)\n",
    "    for child in node.childs:\n",
    "        dfs_third_party(child, permission_nodes)\n",
    "\n",
    "def call_hier(node, call_nodes):\n",
    "    if node:\n",
    "        call_nodes.append(node)\n",
    "        call_hier(node.parent, call_nodes)\n",
    "        \n",
    "thirdparties = {}\n",
    "with open(\"permission_nodes_custom.txt\", \"w\") as target:\n",
    "    for key in app_chains:\n",
    "        target.write(\"{},\\n\".format(key.split(\"/\")[-1]))\n",
    "        permission_nodes = []\n",
    "        for node in app_nodes[key]:\n",
    "            dfs_third_party(node, permission_nodes)\n",
    "        for node in permission_nodes:\n",
    "            if node.detected_lib[\"package\"] not in thirdparties:\n",
    "                thirdparties[node.detected_lib[\"package\"]] = 0\n",
    "            thirdparties[node.detected_lib[\"package\"]] += 1  \n",
    "            target.write(\",CALL:{}::{}::{}::{}\\n\".format(node.detected_lib[\"package\"].strip(), node.class_name.strip(), node.method_name.strip(), \",\".join(list(node.api_permissions)+list(node.cp_permissions))))\n",
    "            \n",
    "sorted_thirdparties = {k: v for k, v in sorted(thirdparties.items(), key=lambda item: item[1], reverse=True)}\n",
    "\n",
    "for permission in sorted_thirdparties:\n",
    "    print(permission, sorted_thirdparties[permission])    "
   ]
  },
  {
   "cell_type": "code",
   "execution_count": null,
   "metadata": {},
   "outputs": [],
   "source": [
    "## Permission requested from custom code and third party codes\n",
    "def dfs_all(node, permission_nodes):\n",
    "    if node.api_permissions or node.cp_permissions:\n",
    "        if not node.detected_lib:\n",
    "            node.detected_lib = {\"package\" : \"NOT FOUND\"}\n",
    "        permission_nodes.append(node)\n",
    "    for child in node.childs:\n",
    "        dfs_all(child, permission_nodes)\n",
    "\n",
    "def call_hier_all(node, call_nodes):\n",
    "    if node:\n",
    "        call_nodes.append(node)\n",
    "        call_hier_all(node.parent, call_nodes)\n",
    "customcodes_permissions = {}\n",
    "thirdparty_permissions = {}\n",
    "\n",
    "with open(\"permission_nodes_all.txt\", \"w\") as target:\n",
    "    for key in app_chains:\n",
    "        target.write(\"{},\\n\".format(key.split(\"/\")[-1]))\n",
    "        permission_nodes = []\n",
    "        for node in app_nodes[key]:\n",
    "            dfs_all(node, permission_nodes)\n",
    "        for node in permission_nodes:\n",
    "            permissions = list(node.api_permissions)+list(node.cp_permissions)\n",
    "            \n",
    "            for p in permissions:\n",
    "                if node.is_third_party:\n",
    "                    if p not in thirdparty_permissions:\n",
    "                        thirdparty_permissions[p] = 0\n",
    "                    thirdparty_permissions[p] += 1\n",
    "                else:\n",
    "                    if p not in customcodes_permissions:\n",
    "                        customcodes_permissions[p] = 0\n",
    "                    customcodes_permissions[p] += 1\n",
    "            target.write(\",CALL:{}::{}::{}::{}\\n\".format(node.detected_lib[\"package\"].strip(), node.class_name.strip(), node.method_name.strip(), \",\".join(list(node.api_permissions)+list(node.cp_permissions))))\n",
    "            \n",
    "sorted_customcodes_permissions = {k: v for k, v in sorted(customcodes_permissions.items(), key=lambda item: item[1], reverse=True)}\n",
    "print(\"Custom Code\")\n",
    "for permission in sorted_customcodes_permissions:\n",
    "    print(permission, sorted_customcodes_permissions[permission])      \n",
    " \n",
    "sorted_thirdparty_permissions = {k: v for k, v in sorted(thirdparty_permissions.items(), key=lambda item: item[1], reverse=True)}\n",
    "print(\"Third Party Code\")\n",
    "for permission in sorted_thirdparty_permissions:\n",
    "    print(permission, sorted_thirdparty_permissions[permission])     "
   ]
  },
  {
   "cell_type": "code",
   "execution_count": null,
   "metadata": {},
   "outputs": [],
   "source": [
    "## Saving third party modules \n",
    "third_party_calls = {}\n",
    "third_party_total_call = {}\n",
    "detected_libs_infos = []\n",
    "for key in app_chains:\n",
    "    permission_nodes = []\n",
    "    for node in app_nodes[key]:\n",
    "        dfs_third_party(node, permission_nodes)\n",
    "    for node in permission_nodes:\n",
    "        detected_libs_infos.append([node.detected_lib[\"package\"].strip(), node.class_name.strip(),  node.method_name.strip(), list(node.api_permissions)+list(node.cp_permissions)])\n",
    "        if node.detected_lib[\"package\"].strip() not in third_party_calls:\n",
    "            third_party_calls[node.detected_lib[\"package\"].strip()] = {}\n",
    "        if node.class_name.strip() not in third_party_calls[node.detected_lib[\"package\"].strip()]:\n",
    "            third_party_calls[node.detected_lib[\"package\"].strip()][node.class_name.strip()] = {}\n",
    "        if node.method_name.strip() not in third_party_calls[node.detected_lib[\"package\"].strip()][node.class_name.strip()]:\n",
    "            third_party_calls[node.detected_lib[\"package\"].strip()][node.class_name.strip()][node.method_name.strip()] = {\"count\": 0, \"permissions\":set()}\n",
    "        third_party_calls[node.detected_lib[\"package\"].strip()][node.class_name.strip()][node.method_name.strip()][\"count\"] += 1\n",
    "        third_party_calls[node.detected_lib[\"package\"].strip()][node.class_name.strip()][node.method_name.strip()][\"permissions\"].update(list(node.api_permissions)+list(node.cp_permissions))\n",
    "        \n",
    "        if node.detected_lib[\"package\"].strip() not in third_party_total_call:\n",
    "            third_party_total_call[node.detected_lib[\"package\"].strip()] = 0\n",
    "        third_party_total_call[node.detected_lib[\"package\"].strip()] += 1\n",
    "with open(\"AndroidModules.pkl\", \"wb\") as f:\n",
    "    pickle.dump([third_party_calls, third_party_total_call, detected_libs_infos], f)  "
   ]
  },
  {
   "cell_type": "code",
   "execution_count": null,
   "metadata": {},
   "outputs": [],
   "source": [
    "sorted_third_party_total_call = {k: v for k, v in sorted(third_party_total_call.items(), key=lambda item: item[1], reverse=True)}\n",
    "print(\"Lib use counts:\\n\")\n",
    "for permission in sorted_third_party_total_call:\n",
    "    print(permission, sorted_third_party_total_call[permission])"
   ]
  },
  {
   "cell_type": "code",
   "execution_count": null,
   "metadata": {},
   "outputs": [],
   "source": [
    "%reset"
   ]
  }
 ],
 "metadata": {
  "kernelspec": {
   "display_name": "Python 3.7.1 64-bit ('base': conda)",
   "language": "python",
   "name": "python37164bitbaseconda6dbad0658cb74d8498053e27cadc9ee9"
  },
  "language_info": {
   "codemirror_mode": {
    "name": "ipython",
    "version": 3
   },
   "file_extension": ".py",
   "mimetype": "text/x-python",
   "name": "python",
   "nbconvert_exporter": "python",
   "pygments_lexer": "ipython3",
   "version": "3.7.6"
  }
 },
 "nbformat": 4,
 "nbformat_minor": 2
}
