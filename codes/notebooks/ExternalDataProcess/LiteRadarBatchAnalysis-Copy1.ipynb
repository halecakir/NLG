{
 "cells": [
  {
   "cell_type": "code",
   "execution_count": 1,
   "metadata": {},
   "outputs": [],
   "source": [
    "import pickle\n",
    "apks_lst = pickle.load( open( \"save.p\", \"rb\" ) )"
   ]
  },
  {
   "cell_type": "code",
   "execution_count": 3,
   "metadata": {},
   "outputs": [
    {
     "data": {
      "text/plain": [
       "('CellConnectionService.apk',\n",
       " '/data/Dataset/Apk/aptoide/49ff2fea9a214dcc2f7ef229488b1a54/CellConnectionService.apk')"
      ]
     },
     "execution_count": 3,
     "metadata": {},
     "output_type": "execute_result"
    }
   ],
   "source": [
    "apks_lst[0]"
   ]
  },
  {
   "cell_type": "code",
   "execution_count": 6,
   "metadata": {},
   "outputs": [],
   "source": [
    "from subprocess import check_call, check_output\n",
    "from multiprocessing.dummy import Pool\n",
    "import json\n",
    "import ast\n",
    "\n",
    "\n",
    "def call_script(args):\n",
    "    key, path = args\n",
    "    hashval = path.split(\"/\")[-2]\n",
    "    check_call([\"cp\", path, \"/data/huseyinalecakir_data/TEMP\"])\n",
    "    try:\n",
    "        output =  check_output([\"python\", \"/home/huseyinalecakir/LiteRadar/LiteRadar/literadar.py\",  \"/data/huseyinalecakir_data/TEMP/{}\".format(key)])\n",
    "        with open(\"/data/huseyinalecakir_data/LiteRadar/{}-{}\".format(hashval, key.replace(\".apk\", \".literadar\")), \"w\") as target:\n",
    "            json.dump(ast.literal_eval(output), target)\n",
    "    except Exception:\n",
    "        print(\"Excetption occured\")\n",
    "    check_call([\"rm\", \"/data/huseyinalecakir_data/TEMP/{}\".format(key)])\n",
    "\n",
    "def main(start, end):\n",
    "    pool = Pool(20)\n",
    "    pool.map(call_script, apks_lst[start:end])\n",
    "    pool.close()\n",
    "    pool.join()"
   ]
  },
  {
   "cell_type": "code",
   "execution_count": null,
   "metadata": {},
   "outputs": [
    {
     "name": "stdout",
     "output_type": "stream",
     "text": [
      "Excetption occured\n",
      "Excetption occured\n",
      "Excetption occured\n",
      "Excetption occured\n",
      "Excetption occured\n",
      "Excetption occured\n"
     ]
    }
   ],
   "source": [
    "main(0,1000)\n"
   ]
  },
  {
   "cell_type": "code",
   "execution_count": null,
   "metadata": {},
   "outputs": [],
   "source": [
    "main(1000,2000)\n"
   ]
  },
  {
   "cell_type": "code",
   "execution_count": null,
   "metadata": {},
   "outputs": [],
   "source": [
    "main(2000,3000)\n"
   ]
  },
  {
   "cell_type": "code",
   "execution_count": null,
   "metadata": {},
   "outputs": [],
   "source": [
    "main(3000,4000)\n"
   ]
  },
  {
   "cell_type": "code",
   "execution_count": null,
   "metadata": {},
   "outputs": [],
   "source": [
    "for num in range(4, 12):\n",
    "    main(num*1000, (num+1)*1000)"
   ]
  }
 ],
 "metadata": {
  "kernelspec": {
   "display_name": "Python 2",
   "language": "python",
   "name": "python2"
  },
  "language_info": {
   "codemirror_mode": {
    "name": "ipython",
    "version": 2
   },
   "file_extension": ".py",
   "mimetype": "text/x-python",
   "name": "python",
   "nbconvert_exporter": "python",
   "pygments_lexer": "ipython2",
   "version": "2.7.18"
  }
 },
 "nbformat": 4,
 "nbformat_minor": 2
}
