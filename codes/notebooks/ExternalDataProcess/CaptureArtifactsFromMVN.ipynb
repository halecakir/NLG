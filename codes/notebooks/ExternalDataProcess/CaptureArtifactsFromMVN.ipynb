{
 "cells": [
  {
   "cell_type": "code",
   "execution_count": 4,
   "metadata": {},
   "outputs": [],
   "source": [
    "import requests\n",
    "from bs4 import BeautifulSoup"
   ]
  },
  {
   "cell_type": "code",
   "execution_count": 30,
   "metadata": {},
   "outputs": [],
   "source": [
    "def capture_artifacts(lib, i=1):\n",
    "    url = \"https://mvnrepository.com/search?q={}&p={}\".format(lib, i)\n",
    "    response = requests.get(url)\n",
    "    soup = BeautifulSoup(response.content, \"html.parser\")\n",
    "    artifact_divs = soup.find_all(\"div\", {\"class\": \"im\"})\n",
    "    if len(soup.find_all(\"div\", {\"class\": \"im\"})) == 0:\n",
    "        return []\n",
    "    artifacts = []\n",
    "    for div in artifact_divs:\n",
    "        path = div.find(\"h2\", {\"class\": \"im-title\"}).find(\"a\")[\"href\"]\n",
    "        artifacts.append((path.split(\"/\")[-2], path.split(\"/\")[-1]))\n",
    "    return artifacts + capture_artifacts(lib, i+1)"
   ]
  },
  {
   "cell_type": "code",
   "execution_count": 31,
   "metadata": {},
   "outputs": [
    {
     "name": "stdout",
     "output_type": "stream",
     "text": [
      "[('com.unity3d.ads', 'unity-ads'), ('org.jenkins-ci.plugins', 'unity3d-plugin'), ('com.ublock.unity3dclasses', 'unity3d-classes'), ('googlePaySDk', 'unitybuy')]\n"
     ]
    }
   ],
   "source": [
    "lib=\"unity3d\"\n",
    "print(capture_artifacts(lib))"
   ]
  },
  {
   "cell_type": "code",
   "execution_count": null,
   "metadata": {},
   "outputs": [],
   "source": []
  }
 ],
 "metadata": {
  "kernelspec": {
   "display_name": "Python 3",
   "language": "python",
   "name": "python3"
  },
  "language_info": {
   "codemirror_mode": {
    "name": "ipython",
    "version": 3
   },
   "file_extension": ".py",
   "mimetype": "text/x-python",
   "name": "python",
   "nbconvert_exporter": "python",
   "pygments_lexer": "ipython3",
   "version": "3.7.6"
  }
 },
 "nbformat": 4,
 "nbformat_minor": 4
}
