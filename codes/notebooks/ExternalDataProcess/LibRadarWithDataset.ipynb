{
 "cells": [
  {
   "cell_type": "markdown",
   "metadata": {},
   "source": [
    "## 1. Retrieve libradar file locations."
   ]
  },
  {
   "cell_type": "code",
   "execution_count": null,
   "metadata": {},
   "outputs": [],
   "source": [
    "import os\n",
    "\n",
    "LIBRADAR_OUT = \"/data/Dataset/LibRadar/aptoide\"\n",
    "libradar_files = dict()\n",
    "for folder in os.listdir(LIBRADAR_OUT):\n",
    "    group_dir = os.path.join(LIBRADAR_OUT, folder)\n",
    "    if os.path.isdir(group_dir):\n",
    "        for file in os.listdir(group_dir):\n",
    "            if file.endswith(\".libradar\"):\n",
    "                file_dir = os.path.join(group_dir, file)\n",
    "                file_no_ext = file.replace(\".libradar\", \"\")\n",
    "                if os.stat(file_dir).st_size > 0:\n",
    "                    if file_no_ext in libradar_files:\n",
    "                        if os.stat(file_dir).st_size > os.stat(libradar_files[file_no_ext]).st_size:\n",
    "                            libradar_files[file_no_ext] = file_dir\n",
    "                    else:\n",
    "                        libradar_files[file_no_ext] = file_dir"
   ]
  },
  {
   "cell_type": "code",
   "execution_count": null,
   "metadata": {},
   "outputs": [],
   "source": [
    "total_valid_libradar_file = sum([1 for k in libradar_files])\n",
    "total_valid_libradar_file"
   ]
  },
  {
   "cell_type": "markdown",
   "metadata": {},
   "source": [
    "## 2. Retrieve SHA files"
   ]
  },
  {
   "cell_type": "code",
   "execution_count": null,
   "metadata": {},
   "outputs": [],
   "source": [
    "import csv\n",
    "SHA_DIR = \"/data/Dataset/SHA/aptoide/lib\"\n",
    "libradar_sha = {}\n",
    "for file in os.listdir(SHA_DIR):\n",
    "    file_dir = os.path.join(SHA_DIR, file)\n",
    "    if file.endswith(\".csv\"):\n",
    "        with open(file_dir) as target:\n",
    "            group_name = file.replace(\".csv\", \"\")\n",
    "            libradar_sha[group_name] = {}\n",
    "            reader = csv.reader(target)\n",
    "            for row in reader:\n",
    "                if group_name != row[2]:\n",
    "                    raise Exception(\"Some unknown problem exist\")\n",
    "                libradar_sha[group_name][row[1]] = row[0]\n",
    "                "
   ]
  },
  {
   "cell_type": "markdown",
   "metadata": {},
   "source": [
    "## 3. Retrieve Signature file"
   ]
  },
  {
   "cell_type": "code",
   "execution_count": null,
   "metadata": {},
   "outputs": [],
   "source": [
    "SIGNATURE_FILE = \"/data/Dataset/Signature/Old/aptoide.sign\"\n",
    "signatures = {}\n",
    "with open(SIGNATURE_FILE) as target:\n",
    "    for line in target:\n",
    "        sign = line.split(\";\")[1].strip()\n",
    "        group, file = line.split(\";\")[0].split(\"/\")[-2:]\n",
    "        if sign not in signatures:\n",
    "            signatures[sign] = {}\n",
    "        if group not in signatures[sign]:\n",
    "            signatures[sign][group] = set()\n",
    "        signatures[sign][group].add(file)"
   ]
  },
  {
   "cell_type": "code",
   "execution_count": null,
   "metadata": {},
   "outputs": [],
   "source": [
    "libradar_sha"
   ]
  },
  {
   "cell_type": "markdown",
   "metadata": {},
   "source": [
    "## 4. Retrieve Smali file locations"
   ]
  },
  {
   "cell_type": "code",
   "execution_count": null,
   "metadata": {},
   "outputs": [],
   "source": [
    "import json\n",
    "SMALI_DIR = \"/data/Dataset/Smali/aptoide\"\n",
    "smali_dirs = {}\n",
    "for group_sha in os.listdir(SMALI_DIR):\n",
    "    group_sha_dir = os.path.join(SMALI_DIR, group_sha)\n",
    "    if os.path.isdir(group_sha_dir):\n",
    "        for file_sha in os.listdir(group_sha_dir):\n",
    "            #file_sha_dir = os.path.join(group_sha_dir, file_sha)\n",
    "            with open(libradar_files[libradar_sha[group_sha][file_sha]]) as target:\n",
    "                data = json.load(target)\n",
    "                print(data)"
   ]
  }
 ],
 "metadata": {
  "kernelspec": {
   "display_name": "Python 3",
   "language": "python",
   "name": "python3"
  },
  "language_info": {
   "codemirror_mode": {
    "name": "ipython",
    "version": 3
   },
   "file_extension": ".py",
   "mimetype": "text/x-python",
   "name": "python",
   "nbconvert_exporter": "python",
   "pygments_lexer": "ipython3",
   "version": "3.7.6"
  }
 },
 "nbformat": 4,
 "nbformat_minor": 4
}
