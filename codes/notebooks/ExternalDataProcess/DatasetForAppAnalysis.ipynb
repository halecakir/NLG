{
 "cells": [
  {
   "cell_type": "code",
   "execution_count": 23,
   "metadata": {},
   "outputs": [],
   "source": [
    "import os\n",
    "PATH = \"/data/huseyinalecakir_data/LiteRadar\"\n",
    "lite_radar_files = []\n",
    "for file in os.listdir(PATH):\n",
    "    if file.endswith(\".literadar\"):\n",
    "        app_sha = file.split(\"-\")[0]\n",
    "        app_name = file.split(\"-\")[1]\n",
    "        file_dir = os.path.join(PATH, file)\n",
    "        lite_radar_files.append((app_sha, app_name.replace(\".literadar\", \"\"), file_dir))\n",
    "        "
   ]
  },
  {
   "cell_type": "code",
   "execution_count": 24,
   "metadata": {},
   "outputs": [],
   "source": [
    "from subprocess import Popen, PIPE\n",
    "sha_files = {}\n",
    "APK_PATH = \"/data/Dataset/Apk/aptoide\"\n",
    "for sha, name, file_dir in lite_radar_files:\n",
    "    apk = os.path.join(APK_PATH, sha, \"{}.apk\".format(name))\n",
    "    if os.path.exists(apk):\n",
    "        p = Popen([\"sha256sum\", apk], stdin=PIPE, stdout=PIPE, stderr=PIPE)\n",
    "        output, err = p.communicate(b\"input data that is passed to subprocess' stdin\")\n",
    "        rc = p.returncode\n",
    "        sha_files[file_dir] = output.split()[0]"
   ]
  },
  {
   "cell_type": "code",
   "execution_count": 25,
   "metadata": {},
   "outputs": [],
   "source": [
    "SMALI_DIR = \"/data/Dataset/Smali/aptoide\"\n",
    "smali_files = {}\n",
    "for sha, name, file_dir in lite_radar_files:\n",
    "    if file_dir in sha_files:\n",
    "        apk_smali_file = os.path.join(SMALI_DIR, sha, sha_files[file_dir])\n",
    "        if os.path.exists(apk_smali_file):\n",
    "            smali_files[file_dir] = apk_smali_file"
   ]
  },
  {
   "cell_type": "code",
   "execution_count": 26,
   "metadata": {},
   "outputs": [],
   "source": [
    "info = []\n",
    "for sha, name, file_dir in lite_radar_files:\n",
    "    if file_dir in sha_files:\n",
    "        d = {\"app_name\" : name,\n",
    "             \"dev_sha\": sha,\n",
    "             \"app_sha\": sha_files[file_dir],\n",
    "             \"literadar\" : file_dir,\n",
    "             \"smali\": smali_files[file_dir],\n",
    "             \"apk_path\": os.path.join(APK_PATH, sha, \"{}.apk\".format(name))}\n",
    "    info.append(d)"
   ]
  },
  {
   "cell_type": "code",
   "execution_count": 27,
   "metadata": {},
   "outputs": [],
   "source": [
    "import pickle\n",
    "pickle.dump(info, open( \"dataset_for_app_analysis.p\", \"wb\" ) )"
   ]
  }
 ],
 "metadata": {
  "kernelspec": {
   "display_name": "Python 3",
   "language": "python",
   "name": "python3"
  },
  "language_info": {
   "codemirror_mode": {
    "name": "ipython",
    "version": 2
   },
   "file_extension": ".py",
   "mimetype": "text/x-python",
   "name": "python",
   "nbconvert_exporter": "python",
   "pygments_lexer": "ipython2",
   "version": "2.7.18"
  }
 },
 "nbformat": 4,
 "nbformat_minor": 2
}
