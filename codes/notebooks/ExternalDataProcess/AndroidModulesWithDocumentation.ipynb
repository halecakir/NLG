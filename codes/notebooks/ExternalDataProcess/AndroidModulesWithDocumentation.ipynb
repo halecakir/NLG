{
 "cells": [
  {
   "cell_type": "code",
   "execution_count": null,
   "metadata": {},
   "outputs": [],
   "source": [
    "import pickle\n",
    "\n",
    "with open(\"AndroidModules.pkl\", \"rb\") as target:\n",
    "    third_party_calls, third_party_total_call, detected_libs_infos = pickle.load(target)"
   ]
  },
  {
   "cell_type": "code",
   "execution_count": null,
   "metadata": {},
   "outputs": [],
   "source": [
    "s = 0\n",
    "cs = 0 \n",
    "ls = 0\n",
    "for lib in third_party_calls:\n",
    "    ls += 1\n",
    "    for c in third_party_calls[lib]:\n",
    "        cs += 1\n",
    "        for m in third_party_calls[lib][c]:\n",
    "            s += third_party_calls[lib][c][m][\"count\"]\n",
    "print(s)\n",
    "print(cs)\n",
    "print(ls)"
   ]
  },
  {
   "cell_type": "code",
   "execution_count": null,
   "metadata": {},
   "outputs": [],
   "source": [
    "third_party_total_call"
   ]
  },
  {
   "cell_type": "code",
   "execution_count": null,
   "metadata": {},
   "outputs": [],
   "source": [
    "# Check if lib doc is exists\n",
    "import requests\n",
    "import re\n",
    "from bs4 import BeautifulSoup\n",
    "\n",
    "BASE_URL = \"https://javadoc.io\"\n",
    "java_doc_status = {\"exist\": [], \"not_exist\":[]}\n",
    "for lib in third_party_total_call:\n",
    "    lib_name = lib[1:].replace(\"/\", \".\")\n",
    "    url = \"{}/doc/{}\".format(BASE_URL, lib_name)\n",
    "    response = requests.get(url)\n",
    "    soup = BeautifulSoup(response.content, \"html.parser\")\n",
    "    if soup.find(text=re.compile('has published 0 artifact\\(s\\) with total 0 version\\(s\\)')):\n",
    "        java_doc_status[\"not_exist\"].append(lib)\n",
    "    else:\n",
    "        java_doc_status[\"exist\"].append(lib)"
   ]
  },
  {
   "cell_type": "code",
   "execution_count": null,
   "metadata": {},
   "outputs": [],
   "source": [
    "#Get Artifact Names from Valid Libs\n",
    "BASE_URL = \"https://javadoc.io\"\n",
    "lib_artifacts = {}\n",
    "for lib in java_doc_status[\"exist\"]:\n",
    "    lib_name = lib[1:].replace(\"/\", \".\")\n",
    "    url = \"{}/doc/{}\".format(BASE_URL, lib_name)\n",
    "    response = requests.get(url)\n",
    "    soup = BeautifulSoup(response.content, \"html.parser\")\n",
    "    lib_artifacts[lib] = []\n",
    "    for artifact in soup.find(\"table\", {\"class\": \"table table-striped\"}).find(\"tbody\").find_all(\"tr\"):\n",
    "        name = artifact.find(\"td\")\n",
    "        lib_artifacts[lib].append(name.text)"
   ]
  },
  {
   "cell_type": "code",
   "execution_count": null,
   "metadata": {},
   "outputs": [],
   "source": [
    "possible_match = {}\n",
    "for lib in java_doc_status[\"exist\"]:\n",
    "    possible_match[lib] = set()\n",
    "    for lib_class in third_party_calls[lib]:\n",
    "        parts = lib_class.split()[-1].split(\"/\")[1:]\n",
    "        for p in parts:\n",
    "            for artifact in lib_artifacts[lib]:\n",
    "                if p in artifact:\n",
    "                    possible_match[lib].add(artifact)"
   ]
  },
  {
   "cell_type": "code",
   "execution_count": null,
   "metadata": {},
   "outputs": [],
   "source": [
    "print(len(java_doc_status[\"exist\"]), len(java_doc_status[\"not_exist\"]))"
   ]
  },
  {
   "cell_type": "code",
   "execution_count": null,
   "metadata": {},
   "outputs": [],
   "source": [
    "s = 0\n",
    "cs = 0 \n",
    "ls = 0\n",
    "problemcs = 0\n",
    "for lib in java_doc_status[\"exist\"]:\n",
    "    ls += 1\n",
    "    for c in third_party_calls[lib]:\n",
    "        cs += 1\n",
    "        n = c.split(\"/\")[-1]\n",
    "        if n.lower() != n:\n",
    "            pass\n",
    "            #print(lib, \",\", c)\n",
    "        else:\n",
    "            problemcs += 1\n",
    "            print(lib, \",\", c)\n",
    "        for m in third_party_calls[lib][c]:\n",
    "            s += third_party_calls[lib][c][m][\"count\"]\n",
    "print(s)\n",
    "print(cs, problemcs)\n",
    "print(ls)"
   ]
  },
  {
   "cell_type": "code",
   "execution_count": null,
   "metadata": {},
   "outputs": [],
   "source": [
    "for key in possible_match:\n",
    "    print(key)\n",
    "    for a in possible_match[key]:\n",
    "        print(a)\n",
    "    print()"
   ]
  },
  {
   "cell_type": "code",
   "execution_count": null,
   "metadata": {},
   "outputs": [],
   "source": [
    "len(possible_match)"
   ]
  },
  {
   "cell_type": "code",
   "execution_count": null,
   "metadata": {},
   "outputs": [],
   "source": [
    "downloaded_libs = []\n",
    "for lib in possible_match:\n",
    "    for artifact in possible_match[lib]:\n",
    "        lib_name = lib[1:].replace(\"/\", \".\")\n",
    "        l = {\"groupid\" : lib_name,\n",
    "              \"artefactid\": artifact}\n",
    "        downloaded_libs.append(l)"
   ]
  },
  {
   "cell_type": "code",
   "execution_count": null,
   "metadata": {},
   "outputs": [],
   "source": [
    "import json\n",
    "with open('third_parties.json', 'w') as json_file: \n",
    "    json.dump(downloaded_libs, json_file) "
   ]
  },
  {
   "cell_type": "code",
   "execution_count": null,
   "metadata": {},
   "outputs": [],
   "source": [
    "import subprocess\n",
    "with open('scrape_javadocs.txt', 'w') as f:\n",
    "    process = subprocess.Popen(['python',\n",
    "                                '/home/huseyinalecakir/NLG/codes/scripts/scrape_javadocs.py',\n",
    "                                '/home/huseyinalecakir/NLG/codes/notebooks/ExternalDataProcess/JavaDocs',\n",
    "                               '/home/huseyinalecakir/NLG/codes/notebooks/ExternalDataProcess/third_parties.json'], stdout=f, stderr=f)"
   ]
  },
  {
   "cell_type": "code",
   "execution_count": null,
   "metadata": {},
   "outputs": [],
   "source": [
    "with open('parse_javadocs.txt', 'w') as f:\n",
    "    process = subprocess.Popen(['python', \n",
    "                                '/home/huseyinalecakir/NLG/codes/scripts/parse_javadocs.py'], stdout=f, stderr=f)"
   ]
  },
  {
   "cell_type": "code",
   "execution_count": null,
   "metadata": {},
   "outputs": [],
   "source": [
    "import pandas as pd\n",
    "classes = pd.read_csv(\"classes.csv\") \n",
    "methods = pd.read_csv(\"methods.csv\") "
   ]
  },
  {
   "cell_type": "code",
   "execution_count": null,
   "metadata": {},
   "outputs": [],
   "source": [
    "## Classses found in documentation\n",
    "\n",
    "classes_found_in_documentation = {}\n",
    "for lib in possible_match:\n",
    "    lib_name = lib[1:].replace(\"/\", \".\")\n",
    "    for lib_class in third_party_calls[lib]:\n",
    "        parts = lib_class.split()[-1].split(\"/\")[1:]\n",
    "        for idx, row in classes.iterrows():\n",
    "            if row[1].lower() == lib_name.lower():\n",
    "                if parts[-1].replace(\";\", \"\").lower() == row[4].split()[-1].lower():\n",
    "                    print(lib_class, row[4])\n",
    "                    if lib not in classes_found_in_documentation:\n",
    "                        classes_found_in_documentation[lib] = set()\n",
    "                    classes_found_in_documentation[lib].add(lib_class)\n",
    "                    print(row[5])\n",
    "                    print(\"\\n\\n\")"
   ]
  },
  {
   "cell_type": "code",
   "execution_count": null,
   "metadata": {},
   "outputs": [],
   "source": [
    "## Methods found in documentation\n",
    "\n",
    "for lib in possible_match:\n",
    "    lib_name = lib[1:].replace(\"/\", \".\")\n",
    "    for idx, row in methods.iterrows():\n",
    "        if row[1].lower() == lib_name.lower():\n",
    "            for lib_class in third_party_calls[lib]:\n",
    "                parts = lib_class.split()[-1].split(\"/\")[1:]\n",
    "                if parts[-1].replace(\";\", \"\").lower() == row[4].split()[-1].lower():\n",
    "                    for class_method in third_party_calls[lib][lib_class]:\n",
    "                        if class_method.split()[-1].split(\"(\")[0].lower() == row[5].split(\"(\")[0].split()[-1].lower():\n",
    "                            print(class_method, row[5])\n",
    "                            print(row[6])\n",
    "                            print(\"\\n\\n\")"
   ]
  },
  {
   "cell_type": "code",
   "execution_count": 20,
   "metadata": {},
   "outputs": [
    {
     "name": "stdout",
     "output_type": "stream",
     "text": [
      ".class public Lcom/mopub/mobileads/AdViewController; Class AdViewController\n",
      "nan\n",
      "\n",
      "\n",
      "\n",
      ".class public Lcom/mopub/mobileads/AdViewController; Class AdViewController\n",
      "nan\n",
      "\n",
      "\n",
      "\n",
      ".class public Lcom/mopub/mobileads/AdUrlGenerator; Class AdUrlGenerator\n",
      "nan\n",
      "\n",
      "\n",
      "\n",
      ".class public Lcom/mopub/mobileads/AdUrlGenerator; Class AdUrlGenerator\n",
      "nan\n",
      "\n",
      "\n",
      "\n",
      ".class public Lcom/mopub/common/ClientMetadata; Class ClientMetadata\n",
      "Singleton that caches Client objects so they will be available to background threads.\n",
      "\n",
      "\n",
      "\n",
      ".class public Lcom/mopub/common/ClientMetadata; Class ClientMetadata\n",
      "Singleton that caches Client objects so they will be available to background threads.\n",
      "\n",
      "\n",
      "\n",
      ".class public Lcom/mopub/common/LocationService; Class LocationService\n",
      "nan\n",
      "\n",
      "\n",
      "\n",
      ".class public Lcom/mopub/common/LocationService; Class LocationService\n",
      "nan\n",
      "\n",
      "\n",
      "\n",
      ".class public Lcom/mopub/common/util/DeviceUtils; Class DeviceUtils\n",
      "nan\n",
      "\n",
      "\n",
      "\n",
      ".class public Lcom/mopub/common/util/DeviceUtils; Class DeviceUtils\n",
      "nan\n",
      "\n",
      "\n",
      "\n",
      ".class public Lcom/tune/TuneParameters; Class TuneParameters\n",
      "nan\n",
      "\n",
      "\n",
      "\n",
      ".class public Lcom/tune/Tune; Class Tune\n",
      "Public Factory to the Tune SDK. To create an instance of the Tune singleton, use the appropriate init methods. At any time after initialization, the ITune interface can be retrieved by calling the static method getInstance()\n",
      "\n",
      "\n",
      "\n",
      ".class public Lcom/tune/location/TuneLocationListener; Class TuneLocationListener\n",
      "Created by johng on 2/9/16.\n",
      "\n",
      "\n",
      "\n"
     ]
    }
   ],
   "source": [
    "## Classses found in documentation\n",
    "\n",
    "classes_found_in_documentation = {}\n",
    "for lib in third_party_total_call:\n",
    "    lib_name = lib[1:].replace(\"/\", \".\")\n",
    "    for lib_class in third_party_calls[lib]:\n",
    "        parts = lib_class.split()[-1].split(\"/\")[1:]\n",
    "        for idx, row in classes.iterrows():\n",
    "            if row[1].lower() == lib_name.lower():\n",
    "                if parts[-1].replace(\";\", \"\").lower() == row[4].split()[-1].lower():\n",
    "                    print(lib_class, row[4])\n",
    "                    if lib not in classes_found_in_documentation:\n",
    "                        classes_found_in_documentation[lib] = set()\n",
    "                    classes_found_in_documentation[lib].add(lib_class)\n",
    "                    print(row[5])\n",
    "                    print(\"\\n\\n\")"
   ]
  },
  {
   "cell_type": "code",
   "execution_count": 21,
   "metadata": {},
   "outputs": [
    {
     "data": {
      "text/html": [
       "<div>\n",
       "<style scoped>\n",
       "    .dataframe tbody tr th:only-of-type {\n",
       "        vertical-align: middle;\n",
       "    }\n",
       "\n",
       "    .dataframe tbody tr th {\n",
       "        vertical-align: top;\n",
       "    }\n",
       "\n",
       "    .dataframe thead th {\n",
       "        text-align: right;\n",
       "    }\n",
       "</style>\n",
       "<table border=\"1\" class=\"dataframe\">\n",
       "  <thead>\n",
       "    <tr style=\"text-align: right;\">\n",
       "      <th></th>\n",
       "      <th>Unnamed: 0</th>\n",
       "      <th>groupid</th>\n",
       "      <th>artefactid</th>\n",
       "      <th>api</th>\n",
       "      <th>class</th>\n",
       "      <th>description</th>\n",
       "    </tr>\n",
       "  </thead>\n",
       "  <tbody>\n",
       "    <tr>\n",
       "      <th>0</th>\n",
       "      <td>0</td>\n",
       "      <td>com.newrelic.telemetry</td>\n",
       "      <td>opentelemetry-exporters-newrelic</td>\n",
       "      <td>com.newrelic.telemetry.opentelemetry.export</td>\n",
       "      <td>Class AttributeNames</td>\n",
       "      <td>Names of frequently used / common attribute keys</td>\n",
       "    </tr>\n",
       "    <tr>\n",
       "      <th>1</th>\n",
       "      <td>1</td>\n",
       "      <td>com.newrelic.telemetry</td>\n",
       "      <td>opentelemetry-exporters-newrelic</td>\n",
       "      <td>com.newrelic.telemetry.opentelemetry.export</td>\n",
       "      <td>Class AttributesSupport</td>\n",
       "      <td>NaN</td>\n",
       "    </tr>\n",
       "    <tr>\n",
       "      <th>2</th>\n",
       "      <td>2</td>\n",
       "      <td>com.newrelic.telemetry</td>\n",
       "      <td>opentelemetry-exporters-newrelic</td>\n",
       "      <td>com.newrelic.telemetry.opentelemetry.export</td>\n",
       "      <td>Class DeltaDoubleCounter</td>\n",
       "      <td>NaN</td>\n",
       "    </tr>\n",
       "    <tr>\n",
       "      <th>3</th>\n",
       "      <td>3</td>\n",
       "      <td>com.newrelic.telemetry</td>\n",
       "      <td>opentelemetry-exporters-newrelic</td>\n",
       "      <td>com.newrelic.telemetry.opentelemetry.export</td>\n",
       "      <td>Class DeltaLongCounter</td>\n",
       "      <td>NaN</td>\n",
       "    </tr>\n",
       "    <tr>\n",
       "      <th>4</th>\n",
       "      <td>4</td>\n",
       "      <td>com.newrelic.telemetry</td>\n",
       "      <td>opentelemetry-exporters-newrelic</td>\n",
       "      <td>com.newrelic.telemetry.opentelemetry.export</td>\n",
       "      <td>Class MetricPointAdapter</td>\n",
       "      <td>NaN</td>\n",
       "    </tr>\n",
       "  </tbody>\n",
       "</table>\n",
       "</div>"
      ],
      "text/plain": [
       "   Unnamed: 0                 groupid                        artefactid  \\\n",
       "0           0  com.newrelic.telemetry  opentelemetry-exporters-newrelic   \n",
       "1           1  com.newrelic.telemetry  opentelemetry-exporters-newrelic   \n",
       "2           2  com.newrelic.telemetry  opentelemetry-exporters-newrelic   \n",
       "3           3  com.newrelic.telemetry  opentelemetry-exporters-newrelic   \n",
       "4           4  com.newrelic.telemetry  opentelemetry-exporters-newrelic   \n",
       "\n",
       "                                           api                     class  \\\n",
       "0  com.newrelic.telemetry.opentelemetry.export      Class AttributeNames   \n",
       "1  com.newrelic.telemetry.opentelemetry.export   Class AttributesSupport   \n",
       "2  com.newrelic.telemetry.opentelemetry.export  Class DeltaDoubleCounter   \n",
       "3  com.newrelic.telemetry.opentelemetry.export    Class DeltaLongCounter   \n",
       "4  com.newrelic.telemetry.opentelemetry.export  Class MetricPointAdapter   \n",
       "\n",
       "                                        description  \n",
       "0  Names of frequently used / common attribute keys  \n",
       "1                                               NaN  \n",
       "2                                               NaN  \n",
       "3                                               NaN  \n",
       "4                                               NaN  "
      ]
     },
     "execution_count": 21,
     "metadata": {},
     "output_type": "execute_result"
    }
   ],
   "source": [
    "classes.head()"
   ]
  },
  {
   "cell_type": "code",
   "execution_count": 22,
   "metadata": {},
   "outputs": [
    {
     "name": "stdout",
     "output_type": "stream",
     "text": [
      ".method public static isNetworkAvailable(Landroid/content/Context;)Z public static boolean isNetworkAvailable(@Nullable android.content.Context context)\n",
      "nan\n",
      "\n",
      "\n",
      "\n",
      ".method public static getLastKnownLocation(Landroid/content/Context;ILcom/mopub/common/LocationService$LocationAwareness;)Landroid/location/Location; @Nullablepublic static android.location.Location getLastKnownLocation(@NonNull android.content.Context context, int locationPrecision, @NonNull MoPub.LocationAwareness locationAwareness)\n",
      "Returns the last known location of the device using its GPS and network location providers. This only checks Android location providers as often as MoPub.getMinimumLocationRefreshTimeMillis() says to, in milliseconds. May be null if: Location permissions are not requested in the Android manifest file The location providers don't exist Location awareness is disabled in the parent MoPubView \n",
      "\n",
      "\n",
      "\n",
      ".method public static getLastKnownLocation(Landroid/content/Context;ILcom/mopub/common/MoPub$LocationAwareness;)Landroid/location/Location; @Nullablepublic static android.location.Location getLastKnownLocation(@NonNull android.content.Context context, int locationPrecision, @NonNull MoPub.LocationAwareness locationAwareness)\n",
      "Returns the last known location of the device using its GPS and network location providers. This only checks Android location providers as often as MoPub.getMinimumLocationRefreshTimeMillis() says to, in milliseconds. May be null if: Location permissions are not requested in the Android manifest file The location providers don't exist Location awareness is disabled in the parent MoPubView \n",
      "\n",
      "\n",
      "\n"
     ]
    }
   ],
   "source": [
    "## Methods found in documentation\n",
    "\n",
    "for lib in third_party_total_call:\n",
    "    lib_name = lib[1:].replace(\"/\", \".\")\n",
    "    for idx, row in methods.iterrows():\n",
    "        if row[1].lower() == lib_name.lower():\n",
    "            for lib_class in third_party_calls[lib]:\n",
    "                parts = lib_class.split()[-1].split(\"/\")[1:]\n",
    "                if parts[-1].replace(\";\", \"\").lower() == row[4].split()[-1].lower():\n",
    "                    for class_method in third_party_calls[lib][lib_class]:\n",
    "                        if class_method.split()[-1].split(\"(\")[0].lower() == row[5].split(\"(\")[0].split()[-1].lower():\n",
    "                            print(class_method, row[5])\n",
    "                            print(row[6])\n",
    "                            print(\"\\n\\n\")"
   ]
  },
  {
   "cell_type": "code",
   "execution_count": null,
   "metadata": {},
   "outputs": [],
   "source": []
  }
 ],
 "metadata": {
  "kernelspec": {
   "display_name": "Python 3.7.1 64-bit ('base': conda)",
   "language": "python",
   "name": "python37164bitbaseconda6dbad0658cb74d8498053e27cadc9ee9"
  },
  "language_info": {
   "codemirror_mode": {
    "name": "ipython",
    "version": 3
   },
   "file_extension": ".py",
   "mimetype": "text/x-python",
   "name": "python",
   "nbconvert_exporter": "python",
   "pygments_lexer": "ipython3",
   "version": "3.7.6"
  }
 },
 "nbformat": 4,
 "nbformat_minor": 4
}
