{
 "cells": [
  {
   "cell_type": "code",
   "execution_count": 1,
   "metadata": {},
   "outputs": [],
   "source": [
    "import os\n",
    "from subprocess import Popen, PIPE\n",
    "apks = list()\n",
    "PATH = \"/data/huseyinalecakir_data/Downloads_All\"\n",
    "for file in os.listdir(PATH):\n",
    "    apks.append(file)"
   ]
  },
  {
   "cell_type": "code",
   "execution_count": 21,
   "metadata": {},
   "outputs": [],
   "source": [
    "apk_libs = {}\n",
    "import ast\n",
    "for app_name in apks:\n",
    "    app_dir = os.path.join(PATH, app_name)\n",
    "    p = Popen([\"python\", \"/home/huseyinalecakir/LibRadar/LibRadar/libradar.py\", app_dir], stdin=PIPE, stdout=PIPE, stderr=PIPE)\n",
    "    output, err = p.communicate(b\"input data that is passed to subprocess' stdin\")\n",
    "    rc = p.returncode\n",
    "    apk_libs[app_name] = ast.literal_eval(output)\n",
    "    "
   ]
  },
  {
   "cell_type": "code",
   "execution_count": null,
   "metadata": {},
   "outputs": [],
   "source": [
    "print \"APK\" ,\",\", \"LIB\", \",\", \"Package\"\n",
    "for app_name in sorted(apks):\n",
    "    print app_name, \",\", \",\", \",\"\n",
    "    for lib in apk_libs[app_name]:\n",
    "        print \",\", lib[\"Library\"], \",\", lib[\"Package\"]   \n",
    "    print"
   ]
  },
  {
   "cell_type": "code",
   "execution_count": 34,
   "metadata": {},
   "outputs": [],
   "source": [
    "import json\n",
    "MATCHED_LIB_PATH = \"/data/huseyinalecakir_data/TEST_SET/matched_libs/LibRadar\"\n",
    "for app_name in sorted(apks):\n",
    "    app_libs_dir = os.path.join(MATCHED_LIB_PATH, app_name.replace(\".apk\", \".json\"))\n",
    "    with open(app_libs_dir, \"w\") as target:\n",
    "        json.dump(apk_libs[app_name], target)"
   ]
  }
 ],
 "metadata": {
  "kernelspec": {
   "display_name": "Python 2",
   "language": "python",
   "name": "python2"
  },
  "language_info": {
   "codemirror_mode": {
    "name": "ipython",
    "version": 2
   },
   "file_extension": ".py",
   "mimetype": "text/x-python",
   "name": "python",
   "nbconvert_exporter": "python",
   "pygments_lexer": "ipython2",
   "version": "2.7.18"
  }
 },
 "nbformat": 4,
 "nbformat_minor": 4
}
