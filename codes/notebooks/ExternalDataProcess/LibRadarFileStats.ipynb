{
 "cells": [
  {
   "cell_type": "code",
   "execution_count": 2,
   "metadata": {},
   "outputs": [],
   "source": [
    "import os\n",
    "import json\n",
    "from collections import defaultdict\n",
    "\n",
    "ROOT = \"/data/huseyinalecakir_data/LibRadar_Downloads_All\"\n",
    "packages = defaultdict(int)\n",
    "package_sites = {}\n",
    "problematic_info = []\n",
    "for file in os.listdir(ROOT):\n",
    "    if file.endswith(\".libradar\"):\n",
    "        file_dir = os.path.join(ROOT, file)\n",
    "        with open(file_dir) as json_file: \n",
    "            try:\n",
    "                data = json.load(json_file)\n",
    "                for d in data:\n",
    "                    p = d['Package']\n",
    "                    packages[p] += 1\n",
    "                    package_info[p] = d\n",
    "            except Exception:\n",
    "                problematic_files.append(file.replace(\".libradar\",\"\"))"
   ]
  },
  {
   "cell_type": "code",
   "execution_count": null,
   "metadata": {},
   "outputs": [],
   "source": [
    "sorted_packages = [(k,v) for k, v in sorted(packages.items(), key=lambda item: item[1], reverse=True)]\n",
    "for line in sorted_packages:\n",
    "    print(package_info[line[0]].get(\"Library\", \"NONE\"),\",\",line[0], \",\", line[1], \",\", package_info[line[0]].get(\"Website\", \"NONE\"), \",\" , \"::\".join(package_info[line[0]].get(\"Permission\", [\"None\"])))"
   ]
  }
 ],
 "metadata": {
  "kernelspec": {
   "display_name": "Python 3",
   "language": "python",
   "name": "python3"
  },
  "language_info": {
   "codemirror_mode": {
    "name": "ipython",
    "version": 3
   },
   "file_extension": ".py",
   "mimetype": "text/x-python",
   "name": "python",
   "nbconvert_exporter": "python",
   "pygments_lexer": "ipython3",
   "version": "3.7.6"
  }
 },
 "nbformat": 4,
 "nbformat_minor": 4
}
