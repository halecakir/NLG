{
 "cells": [
  {
   "cell_type": "code",
   "execution_count": 4,
   "metadata": {},
   "outputs": [],
   "source": [
    "from multiprocessing import Pool\n",
    "from subprocess import Popen, PIPE\n",
    "import json\n",
    "import ast\n",
    "import os\n",
    "\n",
    "\n",
    "def call_script(args):\n",
    "    app_dir = args\n",
    "    app_name = app_dir.split(\"/\")[-1].replace(\".apk\", \"\")\n",
    "    analyses_file = \"/data/huseyinalecakir_data/LibRadar_Downloads_All/{}.libradar\".format(app_name)\n",
    "    try:\n",
    "        if not os.path.exists(analyses_file) or os.stat(analyses_file).st_size == 0:\n",
    "            p = Popen([\"python\", \"/home/huseyinalecakir/LibRadar/LibRadar/libradar.py\", app_dir], stdin=PIPE, stdout=PIPE, stderr=PIPE)\n",
    "            output, err = p.communicate(b\"input data that is passed to subprocess' stdin\")\n",
    "            rc = p.returncode\n",
    "            with open(analyses_file, \"w\") as target:\n",
    "                json.dump(ast.literal_eval(output), target)\n",
    "    except Exception:\n",
    "        print(\"Excetption occured\", app_name)\n",
    "    \n",
    "def main():\n",
    "    APK_DIR =  \"/data/huseyinalecakir_data/Downloads_All\"\n",
    "    apks_lst = [os.path.join(APK_DIR, path) for path in os.listdir(APK_DIR)]\n",
    "    pool = Pool(40)\n",
    "    pool.map(call_script, apks_lst)\n",
    "    pool.close()\n",
    "    pool.join()"
   ]
  },
  {
   "cell_type": "code",
   "execution_count": 5,
   "metadata": {},
   "outputs": [],
   "source": [
    "main()"
   ]
  },
  {
   "cell_type": "code",
   "execution_count": 6,
   "metadata": {},
   "outputs": [
    {
     "name": "stdout",
     "output_type": "stream",
     "text": [
      "1\n"
     ]
    }
   ],
   "source": [
    "print(\"1\")"
   ]
  }
 ],
 "metadata": {
  "kernelspec": {
   "display_name": "Python [conda env:py27]",
   "language": "python",
   "name": "conda-env-py27-py"
  },
  "language_info": {
   "codemirror_mode": {
    "name": "ipython",
    "version": 2
   },
   "file_extension": ".py",
   "mimetype": "text/x-python",
   "name": "python",
   "nbconvert_exporter": "python",
   "pygments_lexer": "ipython2",
   "version": "2.7.18"
  }
 },
 "nbformat": 4,
 "nbformat_minor": 4
}
